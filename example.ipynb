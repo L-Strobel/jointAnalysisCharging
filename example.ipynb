{
 "cells": [
  {
   "cell_type": "code",
   "execution_count": null,
   "metadata": {},
   "outputs": [],
   "source": [
    "import chargingmodel"
   ]
  },
  {
   "cell_type": "markdown",
   "metadata": {},
   "source": [
    "### Run the model\n",
    "Most important arguments:\n",
    "- *dbName*: Name of the database to store to. Default: *chargingmodel/output/[scenario]_[strategy].db*\n",
    "- *scenario*: Set the EVSE scenario. Defines the availability and power of charging options at each location.\n",
    "- *strategy*: Uncontrolled, Opt_county, Opt_National (See Paper)"
   ]
  },
  {
   "cell_type": "code",
   "execution_count": null,
   "metadata": {},
   "outputs": [],
   "source": [
    "uncontrolled = \"chargingmodel/output/MyUncontrolled.db\"\n",
    "chargingmodel.run(dbName=uncontrolled, strategy='Uncontrolled', n_worker=3)"
   ]
  },
  {
   "cell_type": "code",
   "execution_count": null,
   "metadata": {},
   "outputs": [],
   "source": [
    "# Takes ~ 3min\n",
    "# Here setting n_worker != 1 means running agents batches in parallel. Can lead to errors due to less frequent residual load updates.\n",
    "# Default batchsize = 25, Default n_worker = 1\n",
    "optimal = \"chargingmodel/output/MyOptimized.db\"\n",
    "chargingmodel.run(dbName=optimal, strategy='Opt_National', verbose=False)"
   ]
  },
  {
   "cell_type": "markdown",
   "metadata": {},
   "source": [
    "Create aggregated loads for each region or all regions combined.\n",
    "The result is stored in the database."
   ]
  },
  {
   "cell_type": "code",
   "execution_count": null,
   "metadata": {},
   "outputs": [],
   "source": [
    "# All regions together\n",
    "chargingmodel.postprocessing.processTotalLoad(uncontrolled)\n",
    "chargingmodel.postprocessing.processTotalLoad(optimal)"
   ]
  },
  {
   "cell_type": "code",
   "execution_count": null,
   "metadata": {},
   "outputs": [],
   "source": [
    "# All regions individually\n",
    "chargingmodel.postprocessing.processRegionalLoad(uncontrolled)\n",
    "chargingmodel.postprocessing.processRegionalLoad(optimal)"
   ]
  },
  {
   "cell_type": "markdown",
   "metadata": {},
   "source": [
    "### Get output load as time series"
   ]
  },
  {
   "cell_type": "code",
   "execution_count": null,
   "metadata": {},
   "outputs": [],
   "source": [
    "df_uncontrolled = chargingmodel.postprocessing.getProcessed(uncontrolled, region=\"Total\")\n",
    "df_optimal = chargingmodel.postprocessing.getProcessed(optimal, region=\"Total\")"
   ]
  },
  {
   "cell_type": "markdown",
   "metadata": {},
   "source": [
    "### Example: Plot the result for one week"
   ]
  },
  {
   "cell_type": "code",
   "execution_count": null,
   "metadata": {},
   "outputs": [],
   "source": [
    "from datetime import datetime as dt\n",
    "import matplotlib.pyplot as plt\n",
    "import pandas as pd"
   ]
  },
  {
   "cell_type": "code",
   "execution_count": null,
   "metadata": {},
   "outputs": [],
   "source": [
    "# Get the original load (not part of the package)\n",
    "df_noEVLoad = None\n",
    "regions = [\"Region_1\", \"Region_2\", \"Region_3\"]\n",
    "for region in regions:\n",
    "    fn = \"chargingmodel/input/residual-load/\" + region + \".csv\"\n",
    "    if df_noEVLoad is None:\n",
    "        df_noEVLoad = pd.read_csv(fn, sep=\";\", parse_dates=[\"TimeStamp\"], index_col=\"TimeStamp\")\n",
    "        df_noEVLoad.rename(columns={\"ResidualLoad_MW\": region}, inplace=True)\n",
    "    else:\n",
    "        df_tmp = pd.read_csv(fn, sep=\";\", parse_dates=[\"TimeStamp\"], index_col=\"TimeStamp\")\n",
    "        df_noEVLoad[region] = df_tmp[\"ResidualLoad_MW\"]\n",
    "df_noEVLoad['Total_MW'] = df_noEVLoad.loc[:, regions].sum(axis=1)"
   ]
  },
  {
   "cell_type": "code",
   "execution_count": null,
   "metadata": {},
   "outputs": [],
   "source": [
    "week = slice(dt(2030, 9, 16), dt(2030, 9, 22, 23, 45))\n",
    "x = df_noEVLoad.loc[week, 'Total_MW'].index\n",
    "noEV = df_noEVLoad.loc[week, 'Total_MW'].values\n",
    "load_uncontrolled = noEV + df_uncontrolled.loc[week, 'PowerMW']\n",
    "load_optimal = noEV + df_optimal.loc[week, 'PowerMW']"
   ]
  },
  {
   "cell_type": "code",
   "execution_count": null,
   "metadata": {},
   "outputs": [],
   "source": [
    "f, ax = plt.subplots(figsize=(10, 5))\n",
    "ax.plot(x, noEV, label=\"No EV\")\n",
    "ax.plot(x, load_uncontrolled, label=\"Uncontrolled\")\n",
    "ax.plot(x, load_optimal, label=\"Optimal\")\n",
    "_ = ax.set_ylabel(\"Load [MW]\")\n",
    "_ = ax.legend()"
   ]
  }
 ],
 "metadata": {
  "interpreter": {
   "hash": "7ca2e3c375b04e05cbe7747efb911a6f4aa1e3ee44336a4b21d23e4f0d777d27"
  },
  "kernelspec": {
   "display_name": "Python 3.8.10 ('MA')",
   "language": "python",
   "name": "python3"
  },
  "language_info": {
   "codemirror_mode": {
    "name": "ipython",
    "version": 3
   },
   "file_extension": ".py",
   "mimetype": "text/x-python",
   "name": "python",
   "nbconvert_exporter": "python",
   "pygments_lexer": "ipython3",
   "version": "3.10.0"
  },
  "orig_nbformat": 4
 },
 "nbformat": 4,
 "nbformat_minor": 2
}
